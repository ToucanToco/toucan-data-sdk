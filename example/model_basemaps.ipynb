{
 "cells": [
  {
   "cell_type": "markdown",
   "metadata": {
    "collapsed": true
   },
   "source": [
    "## **Explore basemaps**\n",
    "\n",
    "You can use the ToucanDataSdk to access basemaps and visualize them in your notebook.\n",
    "\n",
    "Install **jupyter labextension install @jupyterlab/geojson-extension**"
   ]
  },
  {
   "cell_type": "markdown",
   "metadata": {},
   "source": [
    "#### **1- Connect to your instance with the sdk**"
   ]
  },
  {
   "cell_type": "code",
   "execution_count": null,
   "metadata": {},
   "outputs": [],
   "source": [
    "from toucan_data_sdk import ToucanDataSdk\n",
    "from IPython.display import GeoJSON\n",
    "import getpass\n",
    "\n",
    "instance=  'demo'\n",
    "small_app = 'demo'\n",
    "instance_url = f\"https://api-{instance}.toucantoco.com/{small_app}\"\n",
    "auth = ('toucantoco', getpass.getpass())\n",
    "\n",
    "sdk = ToucanDataSdk(instance_url, auth=auth)"
   ]
  },
  {
   "cell_type": "code",
   "execution_count": null,
   "metadata": {},
   "outputs": [],
   "source": [
    "#### **2- Query basemaps**"
   ]
  },
  {
   "cell_type": "code",
   "execution_count": null,
   "metadata": {},
   "outputs": [],
   "source": [
    "query={}\n",
    "basemaps = sdk.query_basemaps(query)"
   ]
  },
  {
   "cell_type": "code",
   "execution_count": null,
   "metadata": {},
   "outputs": [],
   "source": [
    "GeoJSON(basemaps)"
   ]
  }
 ],
 "metadata": {
  "kernelspec": {
   "display_name": "Python 3",
   "language": "python",
   "name": "python3"
  },
  "language_info": {
   "codemirror_mode": {
    "name": "ipython",
    "version": 3.0
   },
   "file_extension": ".py",
   "mimetype": "text/x-python",
   "name": "python",
   "nbconvert_exporter": "python",
   "pygments_lexer": "ipython3",
   "version": "3.6.4"
  }
 },
 "nbformat": 4,
 "nbformat_minor": 0
}