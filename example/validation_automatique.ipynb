{
 "cells": [
  {
   "cell_type": "markdown",
   "metadata": {},
   "source": [
    "## **Automatique validation**\n",
    "\n"
   ]
  },
  {
   "cell_type": "markdown",
   "metadata": {},
   "source": [
    "#### **1- Connect to your instance with the sdk**"
   ]
  },
  {
   "cell_type": "code",
   "execution_count": 1,
   "metadata": {},
   "outputs": [],
   "source": [
    "from toucan_data_sdk import ToucanDataSdk\n",
    "import pandas as pd\n",
    "import getpass\n",
    "\n",
    "instance = 'scc'\n",
    "small_app = 'lucent'\n",
    "instance_url = f\"https://api-{instance}.toucantoco.com\"\n",
    "username = 'toucantoco'\n",
    "try:\n",
    "    auth = get_auth(instance)\n",
    "except Exception:\n",
    "    auth = (username, getpass.getpass())\n",
    "    \n",
    "sdk = ToucanDataSdk(instance_url, small_app=small_app, auth=auth)"
   ]
  },
  {
   "cell_type": "code",
   "execution_count": 2,
   "metadata": {},
   "outputs": [],
   "source": [
    "import numpy as np\n",
    "import json"
   ]
  },
  {
   "cell_type": "markdown",
   "metadata": {},
   "source": [
    "#### **2- Get the datasources and etl**"
   ]
  },
  {
   "cell_type": "code",
   "execution_count": 11,
   "metadata": {},
   "outputs": [],
   "source": [
    "# You can choose specific ouput domains\n",
    "data_sources_dict = sdk.get_datasources()\n",
    "etl = sdk.get_etl()\n"
   ]
  },
  {
   "cell_type": "markdown",
   "metadata": {},
   "source": [
    "#### **3- update etl**"
   ]
  },
  {
   "cell_type": "code",
   "execution_count": 15,
   "metadata": {},
   "outputs": [],
   "source": [
    "def create_validation_array(data_source):\n",
    "    \"\"\"\n",
    "    Buidl validation array with only two steps of validation:\n",
    "        - type: 'data_type'\n",
    "        - type: 'columns'\n",
    "    \"\"\"\n",
    "    \n",
    "    validation = [\n",
    "        {'type': 'columns'},\n",
    "        {'type': 'data_type'}\n",
    "    ]\n",
    "    \n",
    "    #step 1:\n",
    "    expected = [c for c in list(data_source.columns) if not c.startswith('_')]\n",
    "    validation[0]['expected'] = expected\n",
    "    \n",
    "    # step 2 : \n",
    "    expected = dict(\n",
    "        data_source.dtypes.apply(lambda x: 'number' if np.issubdtype(x, np.number) else 'string')\n",
    "    )\n",
    "    validation[1]['expected'] = expected\n",
    "    return validation"
   ]
  },
  {
   "cell_type": "code",
   "execution_count": 16,
   "metadata": {},
   "outputs": [
    {
     "name": "stdout",
     "output_type": "stream",
     "text": [
      "__filename__\n",
      "__filename__\n",
      "__filename__\n"
     ]
    }
   ],
   "source": [
    "if __name__ == 'ipython':\n",
    "    for datasources_conf in etl['DATA_SOURCES']:\n",
    "        data_source = data_sources_dict[datasources_conf['domain']]\n",
    "        validation = create_validation_array(data_source)\n",
    "\n",
    "        # Ce que je fais ci apres est ameilliorable... Des feedbacks ?\n",
    "        expected = validation[1]['expected']\n",
    "        expected_corrected = {}\n",
    "        for col_name, dtype in expected.items():\n",
    "            if col_name.startswith('_'):\n",
    "                print(col_name)\n",
    "                continue\n",
    "            if dtype == 'number':\n",
    "                expected_corrected[col_name] = dtype\n",
    "            if dtype == 'string':\n",
    "                try:\n",
    "                    if not data_source[col_name].astype(str).str.replace('.','').str.replace(',','').str.isdigit().any():\n",
    "                        expected_corrected[col_name] = dtype\n",
    "                except Exception:\n",
    "                    pass\n",
    "        # --\n",
    "\n",
    "        validation[1]['expected'] = expected_corrected\n",
    "        datasources_conf['validation'] = validation"
   ]
  },
  {
   "cell_type": "code",
   "execution_count": null,
   "metadata": {},
   "outputs": [],
   "source": []
  },
  {
   "cell_type": "code",
   "execution_count": 17,
   "metadata": {},
   "outputs": [
    {
     "name": "stdout",
     "output_type": "stream",
     "text": [
      "oh yeah! ... go check if validation pass now :)\n"
     ]
    }
   ],
   "source": [
    "requete = sdk.client.config.etl.put(json = etl)\n",
    "if requete.status_code == 200:\n",
    "    print('oh yeah! ... go check if validation pass now :)')"
   ]
  },
  {
   "cell_type": "code",
   "execution_count": null,
   "metadata": {},
   "outputs": [],
   "source": []
  }
 ],
 "metadata": {
  "kernelspec": {
   "display_name": "Python 3",
   "language": "python",
   "name": "python3"
  },
  "language_info": {
   "codemirror_mode": {
    "name": "ipython",
    "version": 3
   },
   "file_extension": ".py",
   "mimetype": "text/x-python",
   "name": "python",
   "nbconvert_exporter": "python",
   "pygments_lexer": "ipython3",
   "version": "3.6.6"
  }
 },
 "nbformat": 4,
 "nbformat_minor": 2
}
