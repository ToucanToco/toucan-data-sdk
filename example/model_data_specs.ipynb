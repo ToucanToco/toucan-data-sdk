{
 "cells": [
  {
   "cell_type": "markdown",
   "metadata": {},
   "source": [
    "# Build a data specs document\n",
    "\n",
    "In order to clarify with your customer or partner the format of data sources for your app."
   ]
  },
  {
   "cell_type": "markdown",
   "metadata": {},
   "source": [
    "#### **1- Retrieve etl_config and data sources**"
   ]
  },
  {
   "cell_type": "code",
   "execution_count": null,
   "metadata": {},
   "outputs": [],
   "source": [
    "import getpass\n",
    "from toucan_data_sdk import ToucanDataSdk\n",
    "\n",
    "instance = 'demo'\n",
    "small_app = 'demo'\n",
    "instance_url = f\"https://api-{instance}.toucantoco.com\"\n",
    "username = 'toucantoco'\n",
    "try:\n",
    "    auth = get_auth(instance)\n",
    "except Exception:\n",
    "    auth = (username, getpass.getpass())\n",
    "    \n",
    "sdk = ToucanDataSdk(instance_url, small_app=small_app, auth=auth)\n",
    "\n",
    "dfs = sdk.get_dfs()\n",
    "data_sources = sdk.get_etl()['DATA_SOURCES']"
   ]
  },
  {
   "cell_type": "markdown",
   "metadata": {},
   "source": [
    "#### **2- Personalize header and recommendations**"
   ]
  },
  {
   "cell_type": "code",
   "execution_count": null,
   "metadata": {},
   "outputs": [],
   "source": [
    "reco = \"\"\"\n",
    "Explicite, consitent, simple... si les données sont difficiles à expliquer elles sont probablement de mauvaise qualité.\n",
    "\n",
    "* un seul type de données par colonnes `[21, 15, null]` plutôt que `[\"12\", 1.4, \"Rien\"]`\n",
    "* une seule façon d'écrire `null`\n",
    "* une seule façon d'écrire des dates\n",
    "* nom de colonnes, on évite les ambiguités par exemple en évitant les minuscules, les espaces\n",
    "* s'il y a beaucoup de null il y a trop de colonnes, passer en lignes\n",
    "\"\"\"\n",
    "header = [\n",
    "    '![header.png](https://s9.postimg.org/87cxa2ni7/header.png)', \n",
    "    '# Specs data Toucan Toco', \n",
    "    f'## Projet {instance} {small_app}',\n",
    "    '## Recommendations',\n",
    "    reco]"
   ]
  },
  {
   "cell_type": "markdown",
   "metadata": {},
   "source": [
    "#### **3- Build and write to disk the data specs markdown file**"
   ]
  },
  {
   "cell_type": "code",
   "execution_count": null,
   "metadata": {},
   "outputs": [],
   "source": [
    "from toucan_data_sdk.utils.data_specs import generate_md\n",
    "\n",
    "\n",
    "with open(f'{instance}_{small_app}_data_specs.md', 'w') as f:\n",
    "    f.write('\\n'.join(generate_md(data_sources, dfs, header)))"
   ]
  }
 ],
 "metadata": {
  "kernelspec": {
   "display_name": "Python 3",
   "language": "python",
   "name": "python3"
  },
  "language_info": {
   "codemirror_mode": {
    "name": "ipython",
    "version": 3
   },
   "file_extension": ".py",
   "mimetype": "text/x-python",
   "name": "python",
   "nbconvert_exporter": "python",
   "pygments_lexer": "ipython3",
   "version": "3.6.5"
  }
 },
 "nbformat": 4,
 "nbformat_minor": 2
}
