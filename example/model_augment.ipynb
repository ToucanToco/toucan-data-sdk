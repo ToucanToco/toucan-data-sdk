{
 "cells": [
  {
   "cell_type": "markdown",
   "metadata": {},
   "source": [
    "## **Get your augment.py file**\n",
    "\n",
    "You can use the ToucanDataSdk to access the data_sources and the augment.py file of your project.\n",
    "\n",
    "You can find on github :\n",
    "- toucan-data-sdk project, https://github.com/ToucanToco/toucan-data-sdk\n",
    "- toucan-client project, https://github.com/ToucanToco/toucan-client"
   ]
  },
  {
   "cell_type": "markdown",
   "metadata": {},
   "source": [
    "#### **1- Connect to your instance with the sdk**"
   ]
  },
  {
   "cell_type": "code",
   "execution_count": 2,
   "metadata": {},
   "outputs": [],
   "source": [
    "from toucan_data_sdk import ToucanDataSdk\n",
    "import pandas as pd\n",
    "import getpass\n",
    "\n",
    "instance=  'demo'\n",
    "small_app = 'demo'\n",
    "instance_url = f\"https://api-{instance}.toucantoco.com/{small_app}\"\n",
    "auth = ('toucantoco', getpass.getpass())\n",
    "\n",
    "sdk = ToucanDataSdk(instance_url, auth=auth)"
   ]
  },
  {
   "cell_type": "markdown",
   "metadata": {},
   "source": [
    "#### **2- Invalidate the cache each time your datasources changed**"
   ]
  },
  {
   "cell_type": "code",
   "execution_count": 3,
   "metadata": {},
   "outputs": [],
   "source": [
    "sdk.invalidate_cache()"
   ]
  },
  {
   "cell_type": "markdown",
   "metadata": {},
   "source": [
    "#### **3- Get the datasources**"
   ]
  },
  {
   "cell_type": "code",
   "execution_count": 4,
   "metadata": {},
   "outputs": [],
   "source": [
    "dfs_sdk = sdk.get_dfs()\n",
    "\n",
    "# You can choose specific ouput domains\n",
    "dfs_sdk = sdk.get_dfs(['0_201_1', '0_201_1_avg'])\n",
    "\n",
    "dfs = dfs_sdk.copy()"
   ]
  },
  {
   "cell_type": "markdown",
   "metadata": {},
   "source": [
    "#### **4- Get the augment**"
   ]
  },
  {
   "cell_type": "code",
   "execution_count": null,
   "metadata": {},
   "outputs": [],
   "source": [
    "augment = sdk.get_augment()"
   ]
  },
  {
   "cell_type": "markdown",
   "metadata": {},
   "source": [
    "#### **4- Load the augment.py code with magic**"
   ]
  },
  {
   "cell_type": "code",
   "execution_count": null,
   "metadata": {},
   "outputs": [],
   "source": [
    "%load augment"
   ]
  }
 ],
 "metadata": {
  "kernelspec": {
   "display_name": "Python 3",
   "language": "python",
   "name": "python3"
  },
  "language_info": {
   "codemirror_mode": {
    "name": "ipython",
    "version": 3.0
   },
   "file_extension": ".py",
   "mimetype": "text/x-python",
   "name": "python",
   "nbconvert_exporter": "python",
   "pygments_lexer": "ipython3",
   "version": "3.6.4"
  }
 },
 "nbformat": 4,
 "nbformat_minor": 0
}