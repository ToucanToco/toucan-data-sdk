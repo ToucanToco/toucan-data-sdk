{
 "cells": [
  {
   "cell_type": "markdown",
   "metadata": {},
   "source": [
    "## **Debug your preprocess**\n",
    "\n",
    "To debug your preprocess, you can load the latest traceback of your instance.\n",
    "You will be able :\n",
    "- to see the line with an error in your augment\n",
    "- to acess all local variables of your augment at the step of the exception"
   ]
  },
  {
   "cell_type": "code",
   "execution_count": 1,
   "metadata": {},
   "outputs": [],
   "source": [
    "from toucan_data_sdk import ToucanDataSdk\n",
    "\n",
    "instance = 'demo'\n",
    "small_app = 'demo'\n",
    "instance_url = f\"https://api-{instance}.toucantoco.com\"\n",
    "username = 'toucantoco'\n",
    "try:\n",
    "    auth = get_auth(instance)\n",
    "except Exception:\n",
    "    auth = (username, getpass.getpass())\n",
    "    \n",
    "sdk = ToucanDataSdk(instance_url, small_app=small_app, auth=auth)"
   ]
  },
  {
   "cell_type": "markdown",
   "metadata": {},
   "source": [
    "#### **Load your traceback**"
   ]
  },
  {
   "cell_type": "code",
   "execution_count": 3,
   "metadata": {},
   "outputs": [
    {
     "name": "stdout",
     "output_type": "stream",
     "text": [
      "   2|\n",
      "   3|import pandas as pd\n",
      "   4|import numpy as np\n",
      "   5|\n",
      "   6|\n",
      "   7|def clean_df_retail(df):\n",
      "   8|    now = datetime.datetime.now()\n",
      "   9|    df['now'] = now.strftime('%Y-%m-%d')\n",
      "  10|    df['nowdate'] = pd.to_datetime(df.now)\n",
      "  11|    df['nan'] = np.nan\n",
      "  12|    df['dept'] = df['departement'].astype(str).str.strip()\n",
      "====>    df['dept'] = df['dept'].astype(int)\n",
      "  14|    return df\n",
      "  15|\n",
      "  16|\n",
      "  17|def augment(dfs):\n",
      "−−−−−−−−−−−−\n",
      "ValueError(\"invalid literal for int() with base 10: 'France'\",)\n"
     ]
    }
   ],
   "source": [
    "tb_values = sdk.load_latest_traceback()"
   ]
  },
  {
   "cell_type": "code",
   "execution_count": 4,
   "metadata": {},
   "outputs": [
    {
     "data": {
      "text/html": [
       "<div>\n",
       "<style>\n",
       "    .dataframe thead tr:only-child th {\n",
       "        text-align: right;\n",
       "    }\n",
       "\n",
       "    .dataframe thead th {\n",
       "        text-align: left;\n",
       "    }\n",
       "\n",
       "    .dataframe tbody tr th {\n",
       "        vertical-align: top;\n",
       "    }\n",
       "</style>\n",
       "<table border=\"1\" class=\"dataframe\">\n",
       "  <thead>\n",
       "    <tr style=\"text-align: right;\">\n",
       "      <th></th>\n",
       "      <th>enseigne</th>\n",
       "      <th>type_kpi</th>\n",
       "      <th>value</th>\n",
       "      <th>departement</th>\n",
       "      <th>now</th>\n",
       "      <th>nowdate</th>\n",
       "      <th>nan</th>\n",
       "      <th>dept</th>\n",
       "    </tr>\n",
       "  </thead>\n",
       "  <tbody>\n",
       "    <tr>\n",
       "      <th>0</th>\n",
       "      <td>RELAY</td>\n",
       "      <td>Chiffre d'affaires</td>\n",
       "      <td>1543537.4</td>\n",
       "      <td>France</td>\n",
       "      <td>2018-01-26</td>\n",
       "      <td>2018-01-26</td>\n",
       "      <td>NaN</td>\n",
       "      <td>France</td>\n",
       "    </tr>\n",
       "  </tbody>\n",
       "</table>\n",
       "</div>"
      ],
      "text/plain": [
       "  enseigne            type_kpi      value departement         now    nowdate  \\\n",
       "0    RELAY  Chiffre d'affaires  1543537.4      France  2018-01-26 2018-01-26   \n",
       "\n",
       "   nan    dept  \n",
       "0  NaN  France  "
      ]
     },
     "execution_count": 4,
     "metadata": {},
     "output_type": "execute_result"
    }
   ],
   "source": [
    "tb_values['df'].head(1)"
   ]
  }
 ],
 "metadata": {
  "kernelspec": {
   "display_name": "Python 3",
   "language": "python",
   "name": "python3"
  },
  "language_info": {
   "codemirror_mode": {
    "name": "ipython",
    "version": 3
   },
   "file_extension": ".py",
   "mimetype": "text/x-python",
   "name": "python",
   "nbconvert_exporter": "python",
   "pygments_lexer": "ipython3",
   "version": "3.6.4"
  }
 },
 "nbformat": 4,
 "nbformat_minor": 2
}
